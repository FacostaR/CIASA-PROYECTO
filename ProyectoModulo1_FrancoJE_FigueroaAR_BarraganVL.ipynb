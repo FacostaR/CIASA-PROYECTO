{
 "cells": [
  {
   "cell_type": "markdown",
   "metadata": {},
   "source": [
    "# CIASA COMERCIAL# \n",
    "## Proyecto Programación lineal## \n",
    "\n",
    "-<font color=\"purple\"> *PLANIFICACIÓN DE UNA CARTERA* </font>\n",
    "\n",
    "Se hará uso de los conocimientos de la materia de simulación matemática para encontrar la perfecta planificación de una cartera de crédito.\n",
    "\n",
    "\n",
    "<font color=\"cian\">**Objetivo general**</font>\n",
    "\n",
    "\n",
    "Esta empresa marca un problema de inversión en distintos instrumentos financieros como lo son bonos de tesorería, acciones ordinarias, mercado de dinero y títulos municipales. Actualmente la empresa cuenta con 10 millones de pesos disponibles para invertir pero tiene ciertas restricciones: por lo menos 30% del dinero disponible debe de ser invertido en acciones ordinarias y bonos de tesorería; hasta el 40% del dinero puede invertirse en fondos de mercado y títulos municipales. \n",
    "\n",
    "+ \n",
    "\n",
    "<font color=\"cian\">**Objetivos específicos**</font>\n",
    "\n",
    "Cada uno de los instrumentos financieros tiene una retribución esperada distinta y se muestra en cada uno de ellos hasta cuanto dinero se puede invertir, para ello, vea la tabla siguiente:\n",
    "\n",
    "\n"
   ]
  },
  {
   "cell_type": "markdown",
   "metadata": {},
   "source": [
    "CIASA tiene actualmente $10$ $millones$ disponibles para inversión. La meta que se ha trazado consiste en maximizar la retribución esperada durante el siguiente año. Sus cuatro posibilidades de inversión se presentan resumidas en la siguiente tabla. \n",
    "\n",
    "Posibilidad de inversión|Retribución esperada (%)|Inversión Máx (Millones de Pesos)\n",
    ":----|----\n",
    "Bonos de tesorería| 8 | 5 |\n",
    "Acciones ordinarias| 6 | 7 |\n",
    "Mercado de dinero| 12 | 2 |\n",
    "Títulos municipales| 9 | 4 |\n",
    "\n",
    "Además, la compañía ha especificado que cuando menos 30% de los fondos tendrán que colocarse en acciones ordinarias y bonos de la tesorería y que no más del 40% del dinero deberá invertirse en fondos del mercado y títulos municipales. \n",
    "\n",
    "Se invertirá la totalidad de los $10$ $millones$ actualmente a la mano.\n",
    "\n",
    "Nuestra finalidad será encontrar cuánto dinero deberá invertir CIASA en cada instrumento."
   ]
  },
  {
   "cell_type": "markdown",
   "metadata": {},
   "source": [
    "<font color=\"blue\">**Modelo que representa el problema:**</font>"
   ]
  },
  {
   "cell_type": "markdown",
   "metadata": {},
   "source": [
    "Definición de variables:\n",
    "\n",
    " \n",
    "\n",
    "$X_1$= Cantidad de dólares en Bonos de Tesorería.\n",
    "\n",
    "$X_2$ = Cantidad de dólares en Acciones Ordinarias.\n",
    "\n",
    "$X_3$ = Cantidad de dólares en Mercado de Dinero.\n",
    "\n",
    "$X_4$ = Cantidad de dólares en Títulos Municipales."
   ]
  },
  {
   "cell_type": "markdown",
   "metadata": {},
   "source": [
    "Como se quiere minimizar el costo entonces la funcion sería:\n",
    "\n",
    "$$\\min = 0.08x_1 + 0.06x_2 + 0.12x_3 + 0.09x_4$$\n",
    "\n",
    "Además, por la tabla proporcionada arriba, las restricciones son:\n",
    "\n",
    "$x_1 + x_2 + x_3 + x_4\\leq 10,000,000$ (Inversión Máxima)\n",
    "\n",
    "$x_1 \\leq 5,000,000$ (Inversión en Bonos de Tesorería)\n",
    "\n",
    "$x_2 \\leq 7,000,000$ (Inversión en Acciones Ordinarias.)\n",
    "\n",
    "$x_3 \\leq 2,000,000$ (Inversión en Mercado de Dinero)\n",
    "\n",
    "$x_4 \\leq 4,000,000$ (Inversión en Títulos Municipales)\n",
    "\n",
    "$-0.7x_1 - 0.7x_2 + 0.3x_3 + 0.3x_4 \\leq 0 $ \n",
    "\n",
    "$-0.7x_1 - 0.7x_2 + 0.3x_3 + 0.3x_4 \\leq 0 $ (30% de Inversión)\n",
    "\n",
    "$-0.40x_1 - 0.40x_2 + 0.60x_3 + 0.60x_4 \\leq 0 $ \n",
    "\n",
    "$-0.40x_1 - 0.40x_2 + 0.60x_3 + 0.60x_4 \\leq 0 $ (40% de Inversión)"
   ]
  },
  {
   "cell_type": "markdown",
   "metadata": {},
   "source": [
    "<font color=\"blue\">**Solución:**</font>"
   ]
  },
  {
   "cell_type": "code",
   "execution_count": 3,
   "metadata": {},
   "outputs": [],
   "source": [
    "import scipy.optimize as opt\n",
    "import numpy as np"
   ]
  },
  {
   "cell_type": "code",
   "execution_count": 6,
   "metadata": {},
   "outputs": [],
   "source": [
    "c = np.array ([-0.08,-0.06,-0.12,-0.09])\n",
    "A = np.array (([[1,1,1,1],\n",
    "               [1,0,0,0],\n",
    "               [0,1,0,0],\n",
    "               [0,0,1,0],\n",
    "               [0,0,0,1],\n",
    "               [-0.70,-0.70,0.30,0.30],\n",
    "               [-0.70,-0.70,0.30,0.30],\n",
    "               [-0.40,-0.40,0.60,0.60],\n",
    "               [-0.40,-0.40,0.60,0.60]]))\n",
    "b = np.array([10000000,5000000,7000000,2000000,4000000,0,0,0,0])"
   ]
  },
  {
   "cell_type": "code",
   "execution_count": 7,
   "metadata": {},
   "outputs": [
    {
     "data": {
      "text/plain": [
       "     fun: -880000.0000000002\n",
       " message: 'Optimization terminated successfully.'\n",
       "     nit: 5\n",
       "   slack: array([      0.,       0., 6000000.,       0., 2000000., 3000000.,\n",
       "       3000000.,       0.,       0.])\n",
       "  status: 0\n",
       " success: True\n",
       "       x: array([5000000., 1000000., 2000000., 2000000.])"
      ]
     },
     "execution_count": 7,
     "metadata": {},
     "output_type": "execute_result"
    }
   ],
   "source": [
    "resultado = opt.linprog(c, A_ub=A, b_ub=b)\n",
    "resultado"
   ]
  },
  {
   "cell_type": "markdown",
   "metadata": {},
   "source": [
    "<font color=\"blue\">**Conclusión:**</font>"
   ]
  },
  {
   "cell_type": "markdown",
   "metadata": {},
   "source": [
    "- Podemos concluir que con la resolcuión del porblema anterior mediante programación lineal que la inversión óptima para cada activo es, sabiendo que estan sujetos a la retribución esperada:\n",
    "\n",
    "-$ 5,000,000 en Bonos de Tesoreria\n",
    "\n",
    "-$ 1,000,000 en Acciones de Ordinarias\n",
    "\n",
    "-$ 2,000,000 en Mercado de Dinero\n",
    "\n",
    "-$ 2,000,000 en Títulos Municipales\n",
    "\n",
    "Se puede decir que el máximo de utilidad será de $880,000"
   ]
  },
  {
   "cell_type": "code",
   "execution_count": null,
   "metadata": {},
   "outputs": [],
   "source": []
  }
 ],
 "metadata": {
  "kernelspec": {
   "display_name": "Python 3",
   "language": "python",
   "name": "python3"
  },
  "language_info": {
   "codemirror_mode": {
    "name": "ipython",
    "version": 3
   },
   "file_extension": ".py",
   "mimetype": "text/x-python",
   "name": "python",
   "nbconvert_exporter": "python",
   "pygments_lexer": "ipython3",
   "version": "3.6.5"
  }
 },
 "nbformat": 4,
 "nbformat_minor": 2
}
