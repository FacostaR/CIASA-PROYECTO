{
 "cells": [
  {
   "cell_type": "markdown",
   "metadata": {},
   "source": [
    "# CIASA COMERCIAL# \n",
    "## Proyecto Programación lineal##\n",
    "\n",
    "Definición de variables:\n",
    "$$x_1=cantidad de dólares en bonos de tesorería$$\n",
    "$$x_2=cantidad de dólares en acciones ordinarias$$\n",
    "$$x_3=cantidad de dólares en mercado de dinero$$\n",
    "$$x_4=cantidad de dólares en títulos municipales$$"
   ]
  },
  {
   "cell_type": "code",
   "execution_count": 3,
   "metadata": {},
   "outputs": [],
   "source": [
    "import matplotlib.pyplot as plt\n",
    "%matplotlib inline\n",
    "import numpy as np\n",
    "import scipy.optimize as opt "
   ]
  },
  {
   "cell_type": "code",
   "execution_count": 4,
   "metadata": {},
   "outputs": [
    {
     "data": {
      "text/plain": [
       "(array([ 2, 11, 12, 24, 13, 18]), array([[ 1,  1,  0,  0,  0,  0],\n",
       "        [ 0,  0,  1,  1,  0,  0],\n",
       "        [ 0,  0,  0,  0,  1,  1],\n",
       "        [-1,  0, -1,  0, -1,  0],\n",
       "        [ 0, -1,  0, -1,  0, -1]]), array([ 40,  40,  20, -40, -60]))"
      ]
     },
     "execution_count": 4,
     "metadata": {},
     "output_type": "execute_result"
    }
   ],
   "source": [
    "d=np.array([2,11,12,24,13,18])\n",
    "A=np.array([[1,1,0,0,0,0],\n",
    "           [0,0,1,1,0,0],\n",
    "           [0,0,0,0,1,1],\n",
    "           [-1,0,-1,0,-1,0],\n",
    "           [0,-1,0,-1,0,-1]])\n",
    "B= np.array([40,40,20,-40,-60])\n",
    "d, A, B"
   ]
  },
  {
   "cell_type": "code",
   "execution_count": null,
   "metadata": {},
   "outputs": [],
   "source": []
  },
  {
   "cell_type": "code",
   "execution_count": null,
   "metadata": {},
   "outputs": [],
   "source": []
  }
 ],
 "metadata": {
  "kernelspec": {
   "display_name": "Python 3",
   "language": "python",
   "name": "python3"
  },
  "language_info": {
   "codemirror_mode": {
    "name": "ipython",
    "version": 3
   },
   "file_extension": ".py",
   "mimetype": "text/x-python",
   "name": "python",
   "nbconvert_exporter": "python",
   "pygments_lexer": "ipython3",
   "version": "3.6.5"
  }
 },
 "nbformat": 4,
 "nbformat_minor": 2
}
