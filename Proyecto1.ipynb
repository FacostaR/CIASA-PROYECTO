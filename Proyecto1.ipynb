{
 "cells": [
  {
   "cell_type": "markdown",
   "metadata": {},
   "source": [
    "# CIASA COMERCIAL# \n",
    "## Proyecto Programación lineal##\n",
    "\n",
    "Esta empresa marca un problema de inversión en distintos instrumentos financieros en los cuales se planifica invertir al inicio de cada uno de los próximos 10 años (horizonte de planificación), considerando los siguientes montos disponibles al comienzo de cada año (independiente de los retornos obtenidos producto de las mismas inversiones en años anteriores).\n",
    "\n",
    "Año|1|2|3|4|5|6|7|8|9|10\n",
    ":----|----\n",
    "MM$|  20|20|25|25|30|35|35|40|40|50\n",
    "\n",
    "- Depósito a plazo (anuales) con un retorno de 4.5% anual.\n",
    "- Bono a 6 años plazo con retorno de 4.9% anual.\n",
    "- Bono a 9 años plazo con retorno de 5.2% anual.\n",
    "\n",
    "Se busca formular un modelo de optimización que posea los mayores retornos al término del décimo año (o inicio del año 11).\n",
    "\n",
    "Se establecen las posibilidades de inversión en los distintos instrumentos financieros. \n",
    "Notemos que dado el período de maduración de los mismos se define la factibilidad de invertir en ellos en cada uno de los años. Por ejemplo, como el depósito anual tiene una maduración de un año se puede invertir en él en cada uno de los años del período de planificación. No así, por ejemplo, con el Bono a 9 años plazo el cual se puede invertir sólo al inicio del año 1 y 2.\n",
    "Llamaremos:\n",
    "\n",
    "$x_t =$ Cantidad invertida en el depósito anual al inicio del año $t(t=1,t=2,...)$\n",
    "\n",
    "$y_t =$ Cantidad invertida en bono a 6 años al inicio del año $t(t=1,...,t=5)$\n",
    "\n",
    "$z_t =$ Cantidad invertida en bono a 9 años al inicio del año $(t=1,2)$\n",
    "\n",
    "$u = $ Cantidad obtenida al término del año 10\n",
    "\n",
    "El objetivo sería entonces:\n",
    "$$\\max_{x}u$$\n",
    "\n",
    "Asimismo para cada año se limita las posibilidades de inversión según los instrumentos disponibles, el presupuesto del período y el retorno de los instrumentos que ya maduraron. Por lo tanto se generan las siguientes restricciones.\n",
    "\n",
    "Para $t=1$ \n",
    "\n",
    "$x_1+y_1+z_1=20$\n",
    "\n",
    "Para $t=2$          \n",
    "$x_2+y_2+z_2=20+1045x_1$\n",
    "\n",
    "Para $t=3$          \n",
    "$x_3+y_3=25+1045x_2$\n",
    "\n",
    "Para $t=4$          \n",
    "$x_4+y_4+z_1=25+1045x_3$\n",
    "\n",
    "Para $t=5$          \n",
    "$x_5+y_5+z_1=30+1045x_4$\n",
    "\n",
    "Para $t=6$          \n",
    "$x_6=35+1045x_5$\n",
    "\n",
    "Para $t=7$          \n",
    "$x_7=35+1045x_6+1049^6y_1$\n",
    "\n",
    "Para $t=8$          \n",
    "$x_8=40+1045x_7+1049^6y_2$\n",
    "\n",
    "Para $t=9$          \n",
    "$x_8=35+1045x_8+1049^6y_3$\n",
    "\n",
    "Para $t=10$          \n",
    "$x_8=50+1045x_9+1049^6y_4+1052^6z_1$\n",
    "\n",
    "Para $t=11$          \n",
    "$u=1045x_{10}+1049^6y_5+1052^6z_2$\n",
    "\n",
    "$x_t,y_t,z_t,u \\geq 0$"
   ]
  },
  {
   "cell_type": "code",
   "execution_count": 1,
   "metadata": {},
   "outputs": [],
   "source": [
    "import matplotlib.pyplot as plt\n",
    "%matplotlib inline\n",
    "import numpy as np\n",
    "import scipy.optimize as opt "
   ]
  },
  {
   "cell_type": "code",
   "execution_count": null,
   "metadata": {},
   "outputs": [],
   "source": [
    "d=np.array([2,11,12,24,13,18])\n",
    "A=np.array([[1,1,0,0,0,0],\n",
    "           [0,0,1,1,0,0],\n",
    "           [0,0,0,0,1,1],\n",
    "           [-1,0,-1,0,-1,0],\n",
    "           [0,-1,0,-1,0,-1]])\n",
    "B= np.array([40,40,20,-40,-60])\n",
    "d, A, B"
   ]
  }
 ],
 "metadata": {
  "kernelspec": {
   "display_name": "Python 3",
   "language": "python",
   "name": "python3"
  },
  "language_info": {
   "codemirror_mode": {
    "name": "ipython",
    "version": 3
   },
   "file_extension": ".py",
   "mimetype": "text/x-python",
   "name": "python",
   "nbconvert_exporter": "python",
   "pygments_lexer": "ipython3",
   "version": "3.6.5"
  }
 },
 "nbformat": 4,
 "nbformat_minor": 2
}
